{
 "cells": [
  {
   "cell_type": "markdown",
   "id": "0ca5d265",
   "metadata": {},
   "source": [
    "1. Create a JSONBin Account & Get API Key\n",
    "\n",
    "Go to https://jsonbin.io/.\n",
    "\n",
    "Sign up → Verify email.\n",
    "\n",
    "Go to API Keys in the dashboard.\n",
    "\n",
    "Copy your Master Key (this will be your \"secret\")."
   ]
  },
  {
   "cell_type": "markdown",
   "id": "f0cacc63",
   "metadata": {},
   "source": [
    "2. Create a Bin for User Data\n",
    "\n",
    "In your dashboard, create a new bin with initial empty data:\n",
    "\n",
    "[]\n",
    "\n",
    "\n",
    "This will store an array of users.\n",
    "\n",
    "Copy the Bin ID from the URL:\n",
    "Example: https://api.jsonbin.io/v3/b/<BIN_ID>"
   ]
  },
  {
   "cell_type": "markdown",
   "id": "de6d2b2b",
   "metadata": {},
   "source": [
    "3. Basic API Endpoints\n",
    "\n",
    "GET → Fetch all users\n",
    "GET https://api.jsonbin.io/v3/b/<BIN_ID>/latest\n",
    "\n",
    "PUT → Update the whole bin\n",
    "PUT https://api.jsonbin.io/v3/b/<BIN_ID>\n",
    "\n",
    "Headers required:\n",
    "\n",
    "Content-Type: application/json\n",
    "X-Master-Key: YOUR_JSONBIN_KEY"
   ]
  },
  {
   "cell_type": "markdown",
   "id": "4852ac31",
   "metadata": {},
   "source": [
    "4. Example in Python (Flask)\n",
    "\n",
    "Let’s make a super simple user management API using JSONBin:"
   ]
  },
  {
   "cell_type": "code",
   "execution_count": null,
   "id": "0727d4ca",
   "metadata": {},
   "outputs": [],
   "source": [
    "import requests\n",
    "from flask import Flask, request, jsonify\n",
    "\n",
    "app = Flask(__name__)\n",
    "\n",
    "JSONBIN_API_KEY = \"your_master_key_here\"\n",
    "BIN_ID = \"your_bin_id_here\"\n",
    "BASE_URL = f\"https://api.jsonbin.io/v3/b/{BIN_ID}\"\n",
    "\n",
    "HEADERS = {\n",
    "    \"Content-Type\": \"application/json\",\n",
    "    \"X-Master-Key\": JSONBIN_API_KEY\n",
    "}\n",
    "\n",
    "def get_users():\n",
    "    res = requests.get(f\"{BASE_URL}/latest\", headers=HEADERS)\n",
    "    return res.json()[\"record\"]\n",
    "\n",
    "def save_users(users):\n",
    "    requests.put(BASE_URL, headers=HEADERS, json=users)\n",
    "\n",
    "@app.route(\"/register\", methods=[\"POST\"])\n",
    "def register():\n",
    "    data = request.json\n",
    "    users = get_users()\n",
    "\n",
    "    if any(u[\"username\"] == data[\"username\"] for u in users):\n",
    "        return jsonify({\"error\": \"Username already exists\"}), 400\n",
    "\n",
    "    users.append({\n",
    "        \"username\": data[\"username\"],\n",
    "        \"password\": data[\"password\"],  # NOTE: store hashed in real apps\n",
    "        \"role\": \"user\"\n",
    "    })\n",
    "\n",
    "    save_users(users)\n",
    "    return jsonify({\"message\": \"User registered successfully\"})\n",
    "\n",
    "@app.route(\"/login\", methods=[\"POST\"])\n",
    "def login():\n",
    "    data = request.json\n",
    "    users = get_users()\n",
    "\n",
    "    for u in users:\n",
    "        if u[\"username\"] == data[\"username\"] and u[\"password\"] == data[\"password\"]:\n",
    "            return jsonify({\"message\": \"Login successful\"})\n",
    "    return jsonify({\"error\": \"Invalid credentials\"}), 401\n",
    "\n",
    "if __name__ == \"__main__\":\n",
    "    app.run(debug=True)\n"
   ]
  },
  {
   "cell_type": "markdown",
   "id": "3b2f293f",
   "metadata": {},
   "source": [
    "5. How It Works\n",
    "\n",
    "Register → Add a new user object to JSONBin.\n",
    "\n",
    "Login → Fetch JSONBin, search for matching user credentials.\n",
    "\n",
    "JSONBin acts like your database — no need to host MySQL, MongoDB, etc."
   ]
  },
  {
   "cell_type": "markdown",
   "id": "4b6ad272",
   "metadata": {},
   "source": [
    "6. Limitations\n",
    "\n",
    "Not for production — No query engine, full bin overwrite each time.\n",
    "\n",
    "Rate limits — JSONBin’s free tier has limits (50k requests/month).\n",
    "\n",
    "Security — Keep your X-Master-Key on the server, never in frontend JS."
   ]
  }
 ],
 "metadata": {
  "language_info": {
   "name": "python"
  }
 },
 "nbformat": 4,
 "nbformat_minor": 5
}
