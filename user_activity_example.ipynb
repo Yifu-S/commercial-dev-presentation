{
 "cells": [
  {
   "cell_type": "markdown",
   "id": "5c19d6c1",
   "metadata": {},
   "source": [
    "1. Decide What to Monitor\n",
    "\n",
    "Think about why you’re monitoring before you start:\n",
    "\n",
    "Authentication events → user logins, logouts, failed logins\n",
    "\n",
    "Donation actions → amount donated, time, payment method\n",
    "\n",
    "Browsing actions → pages visited, clicks (if relevant)\n",
    "\n",
    "Form submissions → donation messages, profile changes\n",
    "\n",
    "💡 Tip: Avoid storing sensitive data like passwords or full card numbers — Stripe already handles that securely."
   ]
  },
  {
   "cell_type": "markdown",
   "id": "149551a0",
   "metadata": {},
   "source": [
    "2. Structure Your Activity Log\n",
    "\n",
    "Store it as an array of entries, something like:\n",
    "[\n",
    "  {\n",
    "    \"username\": \"alice\",\n",
    "    \"action\": \"login\",\n",
    "    \"timestamp\": \"2025-08-15T18:23:45Z\",\n",
    "    \"details\": \"Successful login\"\n",
    "  },\n",
    "  {\n",
    "    \"username\": \"alice\",\n",
    "    \"action\": \"donation\",\n",
    "    \"timestamp\": \"2025-08-15T18:24:12Z\",\n",
    "    \"details\": \"$20 via Stripe\"\n",
    "  }\n",
    "]\n"
   ]
  },
  {
   "cell_type": "markdown",
   "id": "5d8bb1e9",
   "metadata": {},
   "source": [
    "3. Logging in Your Backend\n",
    "\n",
    "If you’re already using JSONBin for user data, you can create a second bin just for logs.\n",
    "Here’s a Flask example:"
   ]
  },
  {
   "cell_type": "code",
   "execution_count": null,
   "id": "cccfa34e",
   "metadata": {},
   "outputs": [],
   "source": [
    "import requests\n",
    "from datetime import datetime\n",
    "\n",
    "JSONBIN_API_KEY = \"your_master_key_here\"\n",
    "LOG_BIN_ID = \"your_log_bin_id_here\"\n",
    "BASE_URL = f\"https://api.jsonbin.io/v3/b/{LOG_BIN_ID}\"\n",
    "HEADERS = {\n",
    "    \"Content-Type\": \"application/json\",\n",
    "    \"X-Master-Key\": JSONBIN_API_KEY\n",
    "}\n",
    "\n",
    "def log_activity(username, action, details=\"\"):\n",
    "    # Get existing logs\n",
    "    res = requests.get(f\"{BASE_URL}/latest\", headers=HEADERS)\n",
    "    logs = res.json().get(\"record\", [])\n",
    "    \n",
    "    # Add new log entry\n",
    "    logs.append({\n",
    "        \"username\": username,\n",
    "        \"action\": action,\n",
    "        \"timestamp\": datetime.utcnow().isoformat(),\n",
    "        \"details\": details\n",
    "    })\n",
    "    \n",
    "    # Save back to JSONBin\n",
    "    requests.put(BASE_URL, headers=HEADERS, json=logs)\n"
   ]
  },
  {
   "cell_type": "markdown",
   "id": "5d263c1d",
   "metadata": {},
   "source": [
    "Usage:"
   ]
  },
  {
   "cell_type": "code",
   "execution_count": null,
   "id": "2771aa39",
   "metadata": {},
   "outputs": [],
   "source": [
    "log_activity(\"alice\", \"login\", \"Successful login\")\n",
    "log_activity(\"alice\", \"donation\", \"$20 via Stripe\")"
   ]
  },
  {
   "cell_type": "markdown",
   "id": "fd5836a3",
   "metadata": {},
   "source": [
    "4. Monitoring Stripe Events\n",
    "\n",
    "You can log donations automatically using Stripe webhooks:"
   ]
  },
  {
   "cell_type": "code",
   "execution_count": null,
   "id": "064d7318",
   "metadata": {},
   "outputs": [],
   "source": [
    "if event[\"type\"] == \"checkout.session.completed\":\n",
    "    session = event[\"data\"][\"object\"]\n",
    "    username = session.get(\"client_reference_id\", \"guest\")\n",
    "    amount = session[\"amount_total\"] / 100\n",
    "    log_activity(username, \"donation\", f\"${amount} via Stripe\")\n"
   ]
  },
  {
   "cell_type": "markdown",
   "id": "ed695169",
   "metadata": {},
   "source": [
    "5. Viewing Logs\n",
    "\n",
    "Since JSONBin is JSON, you can:\n",
    "\n",
    "Fetch the logs in a dashboard page and format them nicely\n",
    "\n",
    "Export logs to CSV for analysis\n",
    "\n",
    "Filter by user, date, or action type"
   ]
  },
  {
   "cell_type": "markdown",
   "id": "02d05b88",
   "metadata": {},
   "source": [
    "6. Privacy & Compliance\n",
    "\n",
    "Always inform users you’re logging their activity (privacy policy).\n",
    "\n",
    "Only store necessary info — e.g., store user IDs instead of full names if possible.\n",
    "\n",
    "Don’t store IPs or personal identifiers unless required."
   ]
  }
 ],
 "metadata": {
  "language_info": {
   "name": "python"
  }
 },
 "nbformat": 4,
 "nbformat_minor": 5
}
