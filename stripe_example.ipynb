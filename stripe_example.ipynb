{
 "cells": [
  {
   "cell_type": "markdown",
   "id": "083fb379",
   "metadata": {},
   "source": [
    "1. Create and Set Up a Stripe Account\n",
    "\n",
    "Go to Stripe → Sign up.\n",
    "\n",
    "Verify email, phone, and business/personal details.\n",
    "\n",
    "Enable Test Mode so you can try payments without real money."
   ]
  },
  {
   "cell_type": "markdown",
   "id": "24041a23",
   "metadata": {},
   "source": [
    "2. Get Your API Keys\n",
    "\n",
    "In the Dashboard → Developers → API Keys.\n",
    "\n",
    "Copy:\n",
    "\n",
    "Publishable Key → for the browser\n",
    "\n",
    "Secret Key → for the backend (keep it private!)"
   ]
  },
  {
   "cell_type": "markdown",
   "id": "2981fede",
   "metadata": {},
   "source": [
    "3. Install Stripe SDK\n",
    "\n",
    "If you’re using Flask (since I know you prefer Flask from your previous projects):\n",
    "\n",
    "!pip install stripe flask"
   ]
  },
  {
   "cell_type": "markdown",
   "id": "96f42ce8",
   "metadata": {},
   "source": [
    "4. Backend: Create a Checkout Session\n",
    "\n",
    "This endpoint will:\n",
    "\n",
    "Take the donation amount from the frontend\n",
    "\n",
    "Call Stripe to create a Checkout Session\n",
    "\n",
    "Send the payment page URL back to the user"
   ]
  },
  {
   "cell_type": "code",
   "execution_count": null,
   "id": "0d2ed976",
   "metadata": {},
   "outputs": [],
   "source": [
    "#app.py\n",
    "import os\n",
    "import stripe\n",
    "from flask import Flask, request, jsonify\n",
    "\n",
    "app = Flask(__name__)\n",
    "\n",
    "stripe.api_key = \"sk_test_your_secret_key_here\"\n",
    "\n",
    "@app.route(\"/create-checkout-session\", methods=[\"POST\"])\n",
    "def create_checkout_session():\n",
    "    try:\n",
    "        amount = int(request.json.get(\"amount\", 0)) * 100  # USD cents\n",
    "\n",
    "        session = stripe.checkout.Session.create(\n",
    "            payment_method_types=[\"card\"],\n",
    "            line_items=[{\n",
    "                \"price_data\": {\n",
    "                    \"currency\": \"usd\",\n",
    "                    \"product_data\": {\n",
    "                        \"name\": \"Donation\",\n",
    "                    },\n",
    "                    \"unit_amount\": amount,\n",
    "                },\n",
    "                \"quantity\": 1,\n",
    "            }],\n",
    "            mode=\"payment\",\n",
    "            success_url=\"http://localhost:3000/success\",\n",
    "            cancel_url=\"http://localhost:3000/cancel\",\n",
    "        )\n",
    "\n",
    "        return jsonify({\"url\": session.url})\n",
    "\n",
    "    except Exception as e:\n",
    "        return jsonify(error=str(e)), 400\n",
    "\n",
    "if __name__ == \"__main__\":\n",
    "    app.run(port=5000, debug=True)\n"
   ]
  },
  {
   "cell_type": "markdown",
   "id": "8508e456",
   "metadata": {},
   "source": [
    "5. Frontend: Call the Endpoint\n",
    "\n",
    "Here’s a minimal HTML/JS example for the donate button:"
   ]
  },
  {
   "cell_type": "code",
   "execution_count": null,
   "id": "8bb6138d",
   "metadata": {
    "vscode": {
     "languageId": "html"
    }
   },
   "outputs": [],
   "source": [
    "<button id=\"donateBtn\">Donate $10</button>\n",
    "<script>\n",
    "document.getElementById(\"donateBtn\").addEventListener(\"click\", async () => {\n",
    "    const res = await fetch(\"/create-checkout-session\", {\n",
    "        method: \"POST\",\n",
    "        headers: { \"Content-Type\": \"application/json\" },\n",
    "        body: JSON.stringify({ amount: 10 }) // $10 donation\n",
    "    });\n",
    "    const data = await res.json();\n",
    "    window.location.href = data.url; // redirect to Stripe Checkout\n",
    "});\n",
    "</script>\n"
   ]
  },
  {
   "cell_type": "markdown",
   "id": "bedb3fb4",
   "metadata": {},
   "source": [
    "6. Handle Payment Confirmation\n",
    "\n",
    "Stripe will redirect to your success page when done,\n",
    "but for automated updates (e.g., sending thank-you emails), you need webhooks:"
   ]
  },
  {
   "cell_type": "code",
   "execution_count": null,
   "id": "a8dc26b0",
   "metadata": {
    "vscode": {
     "languageId": "html"
    }
   },
   "outputs": [],
   "source": [
    "@app.route(\"/webhook\", methods=[\"POST\"])\n",
    "def webhook_received():\n",
    "    payload = request.data\n",
    "    sig_header = request.headers.get(\"Stripe-Signature\")\n",
    "    endpoint_secret = \"whsec_your_webhook_secret_here\"\n",
    "\n",
    "    try:\n",
    "        event = stripe.Webhook.construct_event(\n",
    "            payload, sig_header, endpoint_secret\n",
    "        )\n",
    "    except stripe.error.SignatureVerificationError:\n",
    "        return \"Invalid signature\", 400\n",
    "\n",
    "    if event[\"type\"] == \"checkout.session.completed\":\n",
    "        session = event[\"data\"][\"object\"]\n",
    "        print(\"💰 Donation received:\", session[\"amount_total\"] / 100, \"USD\")\n",
    "\n",
    "    return \"\", 200\n"
   ]
  },
  {
   "cell_type": "markdown",
   "id": "118e8c3e",
   "metadata": {},
   "source": [
    "7. Go Live\n",
    "\n",
    "Switch keys from Test to Live.\n",
    "\n",
    "Update success/cancel URLs to your real domain.\n",
    "\n",
    "Make sure HTTPS is enabled."
   ]
  }
 ],
 "metadata": {
  "language_info": {
   "name": "python"
  }
 },
 "nbformat": 4,
 "nbformat_minor": 5
}
